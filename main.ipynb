{
 "cells": [
  {
   "cell_type": "markdown",
   "metadata": {},
   "source": [
    "# Análise de Dados de Filmes\n",
    "\n",
    "Este notebook contém várias análises sobre dados de filmes, explorando diferentes aspectos como orçamento, receita, equipe, gêneros e muito mais."
   ]
  },
  {
   "cell_type": "code",
   "execution_count": null,
   "metadata": {},
   "outputs": [],
   "source": [
    "import pandas as pd\n",
    "import numpy as np\n",
    "import matplotlib.pyplot as plt\n",
    "import os\n",
    "\n",
    "# Carregando o dataset\n",
    "script_dir = os.path.dirname(os.path.abspath('__file__'))\n",
    "DATASET_PATH = os.path.join(script_dir, 'movies.csv')\n",
    "\n",
    "try:\n",
    "    df = pd.read_csv(DATASET_PATH)\n",
    "    print(\"Dataset carregado com sucesso!\")\n",
    "    print(f\"Número de filmes: {len(df)}\")\n",
    "    print(\"\\nPrimeiras linhas do dataset:\")\n",
    "    display(df.head())\n",
    "except FileNotFoundError:\n",
    "    print(\"Erro: Arquivo movies.csv não encontrado\")"
   ]
  },
  {
   "cell_type": "markdown",
   "metadata": {},
   "source": [
    "## 1. Análise de Orçamento e Receita\n",
    "\n",
    "Vamos analisar a relação entre o orçamento dos filmes e sua receita, calculando também o ROI (Return on Investment)."
   ]
  },
  {
   "cell_type": "code",
   "execution_count": null,
   "metadata": {},
   "outputs": [],
   "source": [
    "def analise_orcamento_receita(df):\n",
    "    # Calculando o ROI\n",
    "    df['ROI'] = (df['revenue'] - df['budget']) / df['budget']\n",
    "\n",
    "    # Criando o gráfico de dispersão\n",
    "    plt.figure(figsize=(10, 6))\n",
    "    plt.scatter(df['budget'], df['revenue'], alpha=0.5)\n",
    "    plt.xlabel('Orçamento')\n",
    "    plt.ylabel('Receita')\n",
    "    plt.title('Relação entre Orçamento e Receita')\n",
    "    plt.show()\n",
    "\n",
    "    # Calculando a correlação\n",
    "    correlacao = df['budget'].corr(df['revenue'])\n",
    "    print(f\"Correlação entre orçamento e receita: {correlacao:.2f}\")\n",
    "    \n",
    "    # Exibindo estatísticas do ROI\n",
    "    print(f\"\\nEstatísticas do ROI:\")\n",
    "    print(df['ROI'].describe())\n",
    "\n",
    "analise_orcamento_receita(df)"
   ]
  },
  {
   "cell_type": "markdown",
   "metadata": {},
   "source": [
    "## 2. Análise de Produtoras\n",
    "\n",
    "Vamos investigar como o número de produtoras envolvidas se correlaciona com o orçamento e a bilheteria dos filmes."
   ]
  },
  {
   "cell_type": "code",
   "execution_count": null,
   "metadata": {},
   "outputs": [],
   "source": [
    "def analise_produtoras(df):\n",
    "    print(\"Análise de produtoras em desenvolvimento...\")\n",
    "    # Implementação futura\n",
    "\n",
    "analise_produtoras(df)"
   ]
  },
  {
   "cell_type": "markdown",
   "metadata": {},
   "source": [
    "## 3. Análise de Diretores e Atores\n",
    "\n",
    "Vamos identificar quais diretores trabalham frequentemente com os mesmos atores em múltiplos filmes."
   ]
  },
  {
   "cell_type": "code",
   "execution_count": null,
   "metadata": {},
   "outputs": [],
   "source": [
    "def analise_diretores_atores(df):\n",
    "    print(\"Análise de diretores e atores em desenvolvimento...\")\n",
    "    # Implementação futura\n",
    "\n",
    "analise_diretores_atores(df)"
   ]
  },
  {
   "cell_type": "markdown",
   "metadata": {},
   "source": [
    "## 4. Análise de Duração e Popularidade\n",
    "\n",
    "Vamos investigar se existe alguma relação entre a duração do filme e sua popularidade ou avaliação."
   ]
  },
  {
   "cell_type": "code",
   "execution_count": null,
   "metadata": {},
   "outputs": [],
   "source": [
    "def analise_duracao_popularidade(df):\n",
    "    print(\"Análise de duração e popularidade em desenvolvimento...\")\n",
    "    # Implementação futura\n",
    "\n",
    "analise_duracao_popularidade(df)"
   ]
  },
  {
   "cell_type": "markdown",
   "metadata": {},
   "source": [
    "## 5. Análise de Diversidade de Gênero\n",
    "\n",
    "Vamos analisar a diversidade de gênero nas equipes de produção dos filmes."
   ]
  },
  {
   "cell_type": "code",
   "execution_count": null,
   "metadata": {},
   "outputs": [],
   "source": [
    "def analise_diversidade_genero(df):\n",
    "    print(\"Análise de diversidade de gênero em desenvolvimento...\")\n",
    "    # Implementação futura\n",
    "\n",
    "analise_diversidade_genero(df)"
   ]
  },
  {
   "cell_type": "markdown",
   "metadata": {},
   "source": [
    "## 6. Análise de Gêneros e Orçamento\n",
    "\n",
    "Vamos investigar quais gêneros têm maiores orçamentos e se isso resulta em maior receita."
   ]
  },
  {
   "cell_type": "code",
   "execution_count": null,
   "metadata": {},
   "outputs": [],
   "source": [
    "def analise_generos_orcamento(df):\n",
    "    print(\"Análise de gêneros e orçamento em desenvolvimento...\")\n",
    "    # Implementação futura\n",
    "\n",
    "analise_generos_orcamento(df)"
   ]
  },
  {
   "cell_type": "markdown",
   "metadata": {},
   "source": [
    "## 7. Análise de Tamanho da Equipe\n",
    "\n",
    "Vamos analisar como o tamanho da equipe se relaciona com o orçamento e o sucesso dos filmes."
   ]
  },
  {
   "cell_type": "code",
   "execution_count": null,
   "metadata": {},
   "outputs": [],
   "source": [
    "def analise_equipe_orcamento(df):\n",
    "    print(\"Análise de equipe e orçamento em desenvolvimento...\")\n",
    "    # Implementação futura\n",
    "\n",
    "analise_equipe_orcamento(df)"
   ]
  },
  {
   "cell_type": "markdown",
   "metadata": {},
   "source": [
    "## 8. Análise de Distribuição Geográfica\n",
    "\n",
    "Vamos analisar a distribuição geográfica das produções e sua relação com orçamento e receita."
   ]
  },
  {
   "cell_type": "code",
   "execution_count": null,
   "metadata": {},
   "outputs": [],
   "source": [
    "def analise_distribuicao_geografica(df):\n",
    "    print(\"Análise de distribuição geográfica em desenvolvimento...\")\n",
    "    # Implementação futura\n",
    "\n",
    "analise_distribuicao_geografica(df)"
   ]
  },
  {
   "cell_type": "markdown",
   "metadata": {},
   "source": [
    "## 9. Análise de Data de Lançamento\n",
    "\n",
    "Vamos investigar se existe correlação entre a data de lançamento e o desempenho de bilheteria."
   ]
  },
  {
   "cell_type": "code",
   "execution_count": null,
   "metadata": {},
   "outputs": [],
   "source": [
    "def analise_data_bilheteria(df):\n",
    "    print(\"Análise de data de lançamento em desenvolvimento...\")\n",
    "    # Implementação futura\n",
    "\n",
    "analise_data_bilheteria(df)"
   ]
  },
  {
   "cell_type": "markdown",
   "metadata": {},
   "source": [
    "## 10. Análise Temporal de Orçamento e Receita\n",
    "\n",
    "Vamos analisar como o orçamento e a receita dos filmes mudaram ao longo do tempo."
   ]
  },
  {
   "cell_type": "code",
   "execution_count": null,
   "metadata": {},
   "outputs": [],
   "source": [
    "def analise_orcamento_tempo(df):\n",
    "    print(\"Análise temporal de orçamento e receita em desenvolvimento...\")\n",
    "    # Implementação futura\n",
    "\n",
    "analise_orcamento_tempo(df)"
   ]
  }
 ],
 "metadata": {
  "kernelspec": {
   "display_name": "Python 3",
   "language": "python",
   "name": "python3"
  },
  "language_info": {
   "codemirror_mode": {
    "name": "ipython",
    "version": 3
   },
   "file_extension": ".py",
   "mimetype": "text/x-python",
   "name": "python",
   "nbconvert_exporter": "python",
   "pygments_lexer": "ipython3",
   "version": "3.13.2"
  }
 },
 "nbformat": 4,
 "nbformat_minor": 4
}
