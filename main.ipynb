{
 "cells": [
  {
   "cell_type": "markdown",
   "metadata": {},
   "source": [
    "# Análise de Dados de Filmes\n",
    "\n",
    "Este notebook contém várias análises sobre dados de filmes, explorando diferentes aspectos como orçamento, receita, equipe, gêneros e muito mais."
   ]
  },
  {
   "cell_type": "code",
   "execution_count": null,
   "metadata": {},
   "outputs": [],
   "source": [
    "import pandas as pd\n",
    "import numpy as np\n",
    "import matplotlib.pyplot as plt\n",
    "import os\n",
    "\n",
    "# Carregando o dataset\n",
    "script_dir = os.path.dirname(os.path.abspath('__file__'))\n",
    "DATASET_PATH = os.path.join(script_dir, 'movies.csv')\n",
    "\n",
    "try:\n",
    "    df = pd.read_csv(DATASET_PATH)\n",
    "    print(\"Dataset carregado com sucesso!\")\n",
    "    print(f\"Número de filmes: {len(df)}\")\n",
    "    print(\"\\nPrimeiras linhas do dataset:\")\n",
    "    display(df.head())\n",
    "except FileNotFoundError:\n",
    "    print(\"Erro: Arquivo movies.csv não encontrado\")"
   ]
  },
  {
   "cell_type": "markdown",
   "metadata": {},
   "source": [
    "## 1. Análise de Orçamento e Receita\n",
    "\n",
    "Analisando a relação entre o orçamento dos filmes e sua receita, calculando também o ROI"
   ]
  },
  {
   "cell_type": "code",
   "execution_count": null,
   "metadata": {},
   "outputs": [],
   "source": [
    "def analise_orcamento_receita(df):\n",
    "    df['ROI'] = (df['revenue'] - df['budget']) / df['budget']\n",
    "\n",
    "    plt.figure(figsize=(10, 6))\n",
    "    plt.scatter(df['budget'], df['revenue'], alpha=0.5)\n",
    "    plt.xlabel('Orçamento')\n",
    "    plt.ylabel('Receita')\n",
    "    plt.title('Relação entre Orçamento e Receita')\n",
    "    plt.show()\n",
    "\n",
    "    correlacao = df['budget'].corr(df['revenue'])\n",
    "    print(f\"Correlação entre orçamento e receita: {correlacao:.2f}\")\n",
    "    \n",
    "    print(f\"\\nEstatísticas do ROI:\")\n",
    "    print(df['ROI'].describe())\n",
    "\n",
    "analise_orcamento_receita(df)"
   ]
  },
  {
   "cell_type": "markdown",
   "metadata": {},
   "source": [
    "## 2. Análise de Produtoras\n",
    "\n",
    "Analisando como o número de produtoras envolvidas se correlaciona com o orçamento e a bilheteria dos filmes."
   ]
  },
  {
   "cell_type": "code",
   "execution_count": null,
   "metadata": {},
   "outputs": [],
   "source": [
    "def analise_produtoras(df):\n",
    "    print(\"Análise de produtoras em desenvolvimento...\")\n",
    "    df['production_company_count'] = df['production_companies'].apply(lambda x: len(eval(x)))\n",
    "\n",
    "    analise_de_empresa = df.groupby('production_company_count').agg({\n",
    "        'budget': 'mean',\n",
    "        'revenue': 'mean',\n",
    "        'vote_average': 'mean'\n",
    "    }).reset_index()\n",
    "\n",
    "    plt.figure(figsize=(12, 6))\n",
    "    plt.bar(analise_de_empresa['production_company_count'], analise_de_empresa['revenue'] / 1000000)\n",
    "    plt.xlabel('Número de empresas')\n",
    "    plt.ylabel('Faturamento médio (milhões de U$)')\n",
    "    plt.title('Faturamento Médio por Número de Empresas Produtoras')\n",
    "\n",
    "analise_produtoras(df)"
   ]
  },
  {
   "cell_type": "markdown",
   "metadata": {},
   "source": [
    "## 3. Análise de Atores\n",
    "\n",
    "Atores que aparecem mais de uma vez nos filmes mais bem avaliados (média de avaliação maior que 8.5)"
   ]
  },
  {
   "cell_type": "code",
   "execution_count": null,
   "metadata": {},
   "outputs": [],
   "source": [
    "def analise_diretores_atores(df):\n",
    "    df['vote_average'] = pd.to_numeric(df['vote_average'], errors='coerce')\n",
    "\n",
    "    threshold_de_avaliacao_boa = 8.2\n",
    "    df_de_avaliacao_boa = df[df['vote_average'] >= threshold_de_avaliacao_boa].copy()\n",
    "\n",
    "    df_de_avaliacao_boa['cast'] = df_de_avaliacao_boa['cast'].astype(str)\n",
    "\n",
    "    def dividir_elenco(string_de_elenco):\n",
    "        tokens = string_de_elenco.strip().split()\n",
    "        return [' '.join(tokens[i:i+2]) for i in range(0, len(tokens), 2) if i+1 < len(tokens)]\n",
    "\n",
    "    df_de_avaliacao_boa['cast_list'] = df_de_avaliacao_boa['cast'].apply(dividir_elenco)\n",
    "    elenco_bom = df_de_avaliacao_boa.explode('cast_list')\n",
    "\n",
    "    contagem_de_atores = elenco_bom['cast_list'].value_counts()\n",
    "    atores_populares = contagem_de_atores[contagem_de_atores > 1]\n",
    "\n",
    "    plt.figure(figsize=(12, 6))\n",
    "    atores_populares.plot(kind='bar', color='skyblue')\n",
    "    plt.title('Atores que apareceram com mais frequência em filmes bem avaliados')\n",
    "    plt.xlabel('Ator')\n",
    "    plt.ylabel('Frequência')\n",
    "    plt.xticks(rotation=45, ha='right')\n",
    "    plt.show()\n",
    "    \n",
    "analise_diretores_atores(df)\n"
   ]
  },
  {
   "cell_type": "markdown",
   "metadata": {},
   "source": [
    "## 4. Análise de Duração e Popularidade\n",
    "\n",
    "Analisando se existe alguma relação entre a duração do filme e sua popularidade ou avaliação."
   ]
  },
  {
   "cell_type": "code",
   "execution_count": null,
   "metadata": {},
   "outputs": [],
   "source": [
    "def analise_duracao_popularidade(df):\n",
    "    print(\"Análise de duração e popularidade em desenvolvimento...\")\n",
    "    _, (ax1, ax2) = plt.subplots(1, 2, figsize=(15, 6))\n",
    "\n",
    "    ax1.scatter(df['runtime'], df['popularity'])\n",
    "    ax1.set_title('Duração do Filme vs. Popularidade')\n",
    "    ax1.set_xlabel('Duração do filme (minutos)')\n",
    "    ax1.set_ylabel('Popularidade')\n",
    "\n",
    "    ax2.scatter(df['runtime'], df['vote_average'])\n",
    "    ax2.set_title('Duração do Filme vs. Avaliação Média')\n",
    "    ax2.set_xlabel('Duração do filme (minutos)')\n",
    "    ax2.set_ylabel('Avaliação média')\n",
    "\n",
    "    correlação_de_popularidade_e_tempo_de_execucao = df['runtime'].corr(df['popularity'])\n",
    "    correlacao_de_voto_e_tempo_de_execucao = df['runtime'].corr(df['vote_average'])\n",
    "    print(f\"Duração do filme - Correlação com popularidade: {correlação_de_popularidade_e_tempo_de_execucao:.2f}\")\n",
    "    print(f\"Duração do filme - Correlação com avaliação média: {correlacao_de_voto_e_tempo_de_execucao:.2f}\") \n",
    "\n",
    "analise_duracao_popularidade(df)"
   ]
  },
  {
   "cell_type": "markdown",
   "metadata": {},
   "source": [
    "## 5. Análise de Diversidade de Gênero\n",
    "\n",
    "Analisando a diversidade de departamento nas equipes de produção dos filmes."
   ]
  },
  {
   "cell_type": "code",
   "execution_count": null,
   "metadata": {},
   "outputs": [],
   "source": [
    "def analise_diversidade_departamento(df):\n",
    "    print(\"Análise de diversidade de departamento em desenvolvimento...\")\n",
    "\n",
    "    def extract_department_data(equipe_string):\n",
    "        equipe = eval(equipe_string)\n",
    "        contagem_de_departamentos = {}\n",
    "        \n",
    "        for pessoa in equipe:\n",
    "            departamento = pessoa.get('department', 'Unknown')\n",
    "            contagem_de_departamentos[departamento] = contagem_de_departamentos.get(departamento, 0) + 1\n",
    "        \n",
    "        return pd.Series(contagem_de_departamentos)\n",
    "\n",
    "    df_departamento = df['crew'].apply(extract_department_data)\n",
    "    departamento_total = df_departamento.sum().sort_values(ascending=False)\n",
    "\n",
    "    plt.figure(figsize=(10, 6))\n",
    "    departamento_total.plot(kind='bar')\n",
    "    plt.ylabel('Número de Pessoas')\n",
    "    plt.xlabel('Departamento')\n",
    "    plt.title('Distribuição por Departamento em Equipes de Filmes')\n",
    "    plt.xticks(rotation=45)\n",
    "    plt.tight_layout()\n",
    "    plt.show()\n",
    "    \n",
    "analise_diversidade_departamento(df)"
   ]
  },
  {
   "cell_type": "markdown",
   "metadata": {},
   "source": [
    "## 6. Análise de Gêneros e Orçamento\n",
    "\n",
    "Analisando quais gêneros têm maiores orçamentos e se isso resulta em maior receita."
   ]
  },
  {
   "cell_type": "code",
   "execution_count": null,
   "metadata": {},
   "outputs": [],
   "source": [
    "def analise_generos_orcamento(df):\n",
    "    df['genre_list'] = df['genres'].astype(str).str.split()\n",
    "\n",
    "    exploded_df = df.explode('genre_list')\n",
    "\n",
    "    analise_por_genero = exploded_df.groupby('genre_list').agg({\n",
    "        'budget': 'mean',\n",
    "        'revenue': 'mean',\n",
    "        'vote_average': 'mean',\n",
    "        'index': 'count'\n",
    "    }).rename(columns={'index': 'count'}).reset_index()\n",
    "\n",
    "    analise_por_genero = analise_por_genero.sort_values('revenue', ascending=False)\n",
    "\n",
    "    generos = analise_por_genero['genre_list']\n",
    "    x = np.arange(len(generos))\n",
    "    width = 0.35\n",
    "\n",
    "    _, ax = plt.subplots(figsize=(14, 8))\n",
    "    ax.bar(x - width/2, analise_por_genero['revenue'] / 1e6, width, label='Faturamento (M)')\n",
    "    ax.bar(x + width/2, analise_por_genero['budget'] / 1e6, width, label='Orçamento (M)', color='orange')\n",
    "\n",
    "    ax.set_xlabel('Gênero')\n",
    "    ax.set_ylabel('Quantidade (em milhões de $USD)')\n",
    "    ax.set_title('Média de Faturamento e Orçamento por Gênero')\n",
    "    ax.set_xticks(x)\n",
    "    ax.set_xticklabels(generos, rotation=45, ha='right')\n",
    "    ax.legend()\n",
    "    ax.grid(axis='y', linestyle='--', alpha=0.7)\n",
    "\n",
    "    plt.tight_layout()\n",
    "    plt.show()\n",
    "\n",
    "analise_generos_orcamento(df)"
   ]
  },
  {
   "cell_type": "markdown",
   "metadata": {},
   "source": [
    "## 7. Análise de Tamanho da Equipe\n",
    "\n",
    "Analisando como o tamanho da equipe se relaciona com o orçamento e o sucesso dos filmes."
   ]
  },
  {
   "cell_type": "code",
   "execution_count": null,
   "metadata": {},
   "outputs": [],
   "source": [
    "def analise_equipe_orcamento(df):\n",
    "    df['crew_size'] = df['crew'].apply(lambda x: len(eval(x)))\n",
    "\n",
    "    plt.figure(figsize=(10, 6))\n",
    "    plt.scatter(df['crew_size'], df['revenue'], alpha=0.7)\n",
    "    plt.title('Tamanho da Equipe vs. Faturamento')\n",
    "    plt.xlabel('Tamanho da equipe')\n",
    "    plt.ylabel('Faturamento (R$)')\n",
    "analise_equipe_orcamento(df)"
   ]
  },
  {
   "cell_type": "markdown",
   "metadata": {},
   "source": [
    "## 8. Análise dos filmes em relação aos diretores\n",
    "\n",
    "Analisando quais foram os diretores com mais filmes lançados e sua média de avaliação"
   ]
  },
  {
   "cell_type": "code",
   "execution_count": null,
   "metadata": {},
   "outputs": [],
   "source": [
    "import pandas as pd\n",
    "import matplotlib.pyplot as plt\n",
    "\n",
    "def analise_filmes_diretores(df):\n",
    "    df['vote_average'] = pd.to_numeric(df['vote_average'], errors='coerce')\n",
    "\n",
    "    df = df[df['director'].notna()]\n",
    "\n",
    "    status_do_diretor = df.groupby('director').agg(\n",
    "        movie_count=('title', 'count'),\n",
    "        average_rating=('vote_average', 'mean')\n",
    "    )\n",
    "    melhor_direto = status_do_diretor.sort_values(by='movie_count', ascending=False).head(1)\n",
    "\n",
    "    print(\"Diretor com mais filmes:\")\n",
    "    print(melhor_direto)\n",
    "\n",
    "    plt.figure(figsize=(12, 6))\n",
    "    plt.scatter(status_do_diretor['movie_count'], status_do_diretor['average_rating'], alpha=0.6, color='teal')\n",
    "    plt.title('Diretores: Número de filmes vs Avaliação média')\n",
    "    plt.xlabel('Número de Filmes')\n",
    "    plt.ylabel('Avaliação Média')\n",
    "    plt.tight_layout()\n",
    "    plt.show()\n",
    "\n",
    "analise_filmes_diretores(df)\n"
   ]
  },
  {
   "cell_type": "markdown",
   "metadata": {},
   "source": [
    "## 9. Análise de Data de Lançamento\n",
    "\n",
    "Analisando se existe correlação entre a data de lançamento e o desempenho de bilheteria."
   ]
  },
  {
   "cell_type": "code",
   "execution_count": null,
   "metadata": {},
   "outputs": [],
   "source": [
    "def analise_data_bilheteria(df):\n",
    "    print(\"Análise de data de lançamento em desenvolvimento...\")\n",
    "    analise_de_linguagem = df.groupby('original_language').agg({\n",
    "        'index': 'count',\n",
    "        'budget': 'mean',\n",
    "        'revenue': 'mean',\n",
    "        'vote_average': 'mean'\n",
    "    }).rename(columns={'index': 'movie_count'}).reset_index()\n",
    "\n",
    "    analise_de_linguagem = analise_de_linguagem[analise_de_linguagem['movie_count'] >= 2]\n",
    "\n",
    "    analise_de_linguagem = analise_de_linguagem.sort_values('revenue', ascending=False)\n",
    "\n",
    "    plt.figure(figsize=(12, 6))\n",
    "    plt.bar(analise_de_linguagem['original_language'], analise_de_linguagem['revenue'] / 1000000)\n",
    "    plt.ylabel('Receita Média (milhões $)')\n",
    "    plt.xlabel('Idioma Original')\n",
    "    plt.title('Receita Média por Idioma Original')\n",
    "analise_data_bilheteria(df)"
   ]
  },
  {
   "cell_type": "markdown",
   "metadata": {},
   "source": [
    "## 10. Análise do rendimento em relação ao mês de lançamento.\n",
    "\n",
    "Analisando como o mês de lançamento do filme influencia em seu rendimento"
   ]
  },
  {
   "cell_type": "code",
   "execution_count": null,
   "metadata": {},
   "outputs": [],
   "source": [
    "def analise_orcamento_tempo(df):\n",
    "    df['release_month'] = pd.to_datetime(df['release_date']).dt.month\n",
    "\n",
    "    performance_mensal = df.groupby('release_month').agg({\n",
    "        'revenue': 'mean',\n",
    "        'index': 'count'\n",
    "    }).rename(columns={'index': 'movie_count'}).reset_index()\n",
    "\n",
    "    plt.figure(figsize=(12, 6))\n",
    "    plt.bar(performance_mensal['release_month'], performance_mensal['revenue'] / 1000000)\n",
    "    plt.xlabel('Mês de Lançamento')\n",
    "    plt.ylabel('Receita Média (milhões $)')\n",
    "    plt.title('Receita Média por Mês de Lançamento')\n",
    "    plt.xticks(range(1, 13), ['Jan', 'Fev', 'Mar', 'Abr', 'Mai', 'Jun', 'Jul', 'Ago', 'Set', 'Out', 'Nov', 'Dez'])\n",
    "analise_orcamento_tempo(df)"
   ]
  }
 ],
 "metadata": {
  "kernelspec": {
   "display_name": "Python 3",
   "language": "python",
   "name": "python3"
  },
  "language_info": {
   "codemirror_mode": {
    "name": "ipython",
    "version": 3
   },
   "file_extension": ".py",
   "mimetype": "text/x-python",
   "name": "python",
   "nbconvert_exporter": "python",
   "pygments_lexer": "ipython3",
   "version": "3.13.2"
  }
 },
 "nbformat": 4,
 "nbformat_minor": 4
}
